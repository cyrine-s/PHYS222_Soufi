{
 "cells": [
  {
   "cell_type": "code",
   "execution_count": 1,
   "id": "a5e95e58",
   "metadata": {},
   "outputs": [],
   "source": [
    "# Importing Packages\n",
    "import numpy as np\n",
    "import matplotlib.pyplot as plt"
   ]
  },
  {
   "cell_type": "code",
   "execution_count": 2,
   "id": "fa255bca",
   "metadata": {},
   "outputs": [],
   "source": [
    "def my_bisection(f, a, b, tol, max_iter):\n",
    "    n=1\n",
    "    s=1\n",
    "    if f(a)*f(b)>=0 :\n",
    "        raise Exception(\"a and b do not bound a root\")\n",
    "    while s> tol and n <= max_iter:\n",
    "        x=(a+b)/2\n",
    "        y=f(x)\n",
    "        if y*f(a)<0:\n",
    "            b=x\n",
    "        elif y*f(a)>0:\n",
    "            a=x\n",
    "        else:\n",
    "            break\n",
    "        s=(b-a)/abs(b-a)\n",
    "        n=n+1\n",
    "    return x"
   ]
  },
  {
   "cell_type": "markdown",
   "id": "7a7c0cd6",
   "metadata": {},
   "source": [
    "### Example and testing"
   ]
  },
  {
   "cell_type": "code",
   "execution_count": 3,
   "id": "0e9e9bd5",
   "metadata": {},
   "outputs": [],
   "source": [
    "# Defining Equation and Derivative\n",
    "def f(x):\n",
    "    res = np.cos(x)-2*x**3\n",
    "    return res\n",
    " \n",
    "def df(x):\n",
    "    res = -np.sin(x)-6*x**2\n",
    "    return res"
   ]
  },
  {
   "cell_type": "code",
   "execution_count": 4,
   "id": "db231e2c",
   "metadata": {},
   "outputs": [
    {
     "name": "stdout",
     "output_type": "stream",
     "text": [
      "estimate = 0.7214059829711914\n"
     ]
    }
   ],
   "source": [
    "estimate = my_bisection(f, -1, 2, 1e-15, 20)\n",
    "print(\"estimate =\", estimate)"
   ]
  },
  {
   "cell_type": "code",
   "execution_count": null,
   "id": "5b16e151",
   "metadata": {},
   "outputs": [],
   "source": []
  }
 ],
 "metadata": {
  "kernelspec": {
   "display_name": "Python 3 (ipykernel)",
   "language": "python",
   "name": "python3"
  },
  "language_info": {
   "codemirror_mode": {
    "name": "ipython",
    "version": 3
   },
   "file_extension": ".py",
   "mimetype": "text/x-python",
   "name": "python",
   "nbconvert_exporter": "python",
   "pygments_lexer": "ipython3",
   "version": "3.9.13"
  }
 },
 "nbformat": 4,
 "nbformat_minor": 5
}
