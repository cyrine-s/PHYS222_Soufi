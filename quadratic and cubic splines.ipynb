{
 "cells": [
  {
   "cell_type": "markdown",
   "metadata": {},
   "source": [
    "# Quadratic splines \n"
   ]
  },
  {
   "cell_type": "code",
   "execution_count": 15,
   "metadata": {},
   "outputs": [],
   "source": [
    "import numpy as np\n",
    "def quadraticSpline(x,y,r):\n",
    "    n=len(x)\n",
    "    z=np.zeros(n)\n",
    "    #computing the first element of the vector z\n",
    "    z[0]=(y[1]-y[0])/(x[1]-x[0])\n",
    "    #computing the rest of the elements of vector z\n",
    "    for i in range(0,n-1):\n",
    "        z[i+1]=-z[i]+2*((y[i+1]-y[i])/(x[i+1]-x[i]))\n",
    "    #we seek i for which x(i)<r<x(i+1) (we basicaaly compare r with the elements of x)\n",
    "    for i in range(0,n): #works if the elements of x are sorted \n",
    "        if (r>=x[i] and r<=x[i+1]):\n",
    "            ifound=i\n",
    "            break\n",
    "    s=y[ifound]+z[ifound]*(r-x[ifound])+(1/2)*((z[ifound+1]-z[ifound])/(x[ifound+1]-x[ifound]))*((r-x[ifound])**2)\n",
    "    return s "
   ]
  },
  {
   "cell_type": "code",
   "execution_count": 55,
   "metadata": {},
   "outputs": [
    {
     "name": "stdout",
     "output_type": "stream",
     "text": [
      "the value of y coressponding r= 0 is 1.0\n"
     ]
    }
   ],
   "source": [
    "x=[-1, 0, 0.5, 1, 2, 2.5]\n",
    "y=[2, 1, 0, 1, 2 ,3]\n",
    "r=0\n",
    "print('the value of y coressponding r=',r,'is', quadraticSpline(x,y,r))\n"
   ]
  },
  {
   "cell_type": "markdown",
   "metadata": {},
   "source": [
    "# cubic splines:\n"
   ]
  },
  {
   "cell_type": "code",
   "execution_count": 48,
   "metadata": {},
   "outputs": [],
   "source": [
    "def cubicSpline(x,y,e):\n",
    "    n=len(x)\n",
    "    z=np.zeros(n)\n",
    "    w=np.zeros(n)\n",
    "    r=np.zeros(n)\n",
    "    h=np.zeros(n)\n",
    "    #generate vector of h which is the difference between x(i) and x(i+1)\n",
    "    for i in range(n-1):\n",
    "        h[i+1]=x[i+1]-x[i] \n",
    "    #generate vector of r for the formule Aw=r\n",
    "    for i in range(1,n-1):\n",
    "        r[i]=(h[i]+h[i+1])*((((y[i+1]-y[i])/(x[i+1]-x[i]))-((y[i]-y[i-1])/(x[i]-x[i-1])))/(x[i+1]-x[i-1]))\n",
    "        #can make this looks way more simpler by introducing a function for divided differences and h as well\n",
    "        \n",
    "    #generate matrix A\n",
    "    A = [[0 for j in range(n-2)]\n",
    "              for i in range(n-2)]\n",
    "    \n",
    "      \n",
    "    for k in range(0,n-3):\n",
    "        A[k][k] = (h[k+1]+h[k+2])/3\n",
    "        A[k][k+1] = h[k+2]/6\n",
    "        A[k+1][k] = h[k+2]/6\n",
    "    \n",
    "    A[n-3][n-3]=(h[n-2]+h[n-1])/3\n",
    "    \n",
    "        \n",
    "    #perform gauss reduction on [A|r]\n",
    "    \n",
    "    for k in range(0,n-3):\n",
    "        m=A[k+1][k] - A[k][k]\n",
    "        A[k+1][k+1]=A[k+1][k+1]-m*A[k][k+1]\n",
    "        r[k+1]=r[k+1]-m*r[k]\n",
    "        \n",
    "    #perform back substitution on the reduced system to get the vector w \n",
    "        \n",
    "    for k in range(n-2,0,-1):\n",
    "        w[0]=w[n-1]=0\n",
    "        w[k]=r[k]/A[k-1][k-1]\n",
    "        if k>=1:\n",
    "            r[k-1]=r[k-1]-w[k]*A[k-1][1]\n",
    "            \n",
    "    # compute the 1st element of z\n",
    "    \n",
    "    z[0]=((y[1]-y[0])/(x[1]-x[0]))-2*(w[0]+w[1])*(h[1]/6)\n",
    "    \n",
    "    #compute the whole vector of z \n",
    "    \n",
    "    for i in range(0,n-1):\n",
    "        z[i+1]=z[i]+(h[i+1]/2)*(w[i+1]-w[i])\n",
    "        \n",
    "    #we seek i for which x(i)<e<x(i+1) (we basicaaly compare e with the elements of x)\n",
    "    \n",
    "    for i in range(0,n): #works if the elements of x are sorted \n",
    "        if (e>=x[i] and e<=x[i+1]):\n",
    "            ifound=i\n",
    "            break\n",
    "            \n",
    "    #generate s(x) through generating si(x)\n",
    "    s=y[ifound]+z[ifound]*(e-x[ifound])+(w[i]/2)*((e-x[i])**2)+((w[i+1]-w[i])/6)*h[i+1]*((e-x[i])**3)\n",
    "    return s "
   ]
  },
  {
   "cell_type": "code",
   "execution_count": 58,
   "metadata": {},
   "outputs": [
    {
     "name": "stdout",
     "output_type": "stream",
     "text": [
      "the value of y coressponding e= -1 is 2.0\n"
     ]
    }
   ],
   "source": [
    "x=[-1, 0, 0.5, 1, 2, 2.5]\n",
    "y=[2, 1, 0, 1, 2 ,3]\n",
    "e=\n",
    "print('the value of y coressponding e=',e,'is', cubicSpline(x,y,e))\n",
    "#doesn't work correctly(i think it's a matter of indcices)"
   ]
  },
  {
   "cell_type": "code",
   "execution_count": null,
   "metadata": {},
   "outputs": [],
   "source": []
  }
 ],
 "metadata": {
  "kernelspec": {
   "display_name": "Python 3",
   "language": "python",
   "name": "python3"
  },
  "language_info": {
   "codemirror_mode": {
    "name": "ipython",
    "version": 3
   },
   "file_extension": ".py",
   "mimetype": "text/x-python",
   "name": "python",
   "nbconvert_exporter": "python",
   "pygments_lexer": "ipython3",
   "version": "3.7.3"
  }
 },
 "nbformat": 4,
 "nbformat_minor": 2
}
