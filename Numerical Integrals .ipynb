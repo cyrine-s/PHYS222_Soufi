{
 "cells": [
  {
   "cell_type": "markdown",
   "id": "81e1717c",
   "metadata": {},
   "source": [
    "### Riemann Integration"
   ]
  },
  {
   "cell_type": "code",
   "execution_count": 1,
   "id": "c6e569df",
   "metadata": {},
   "outputs": [],
   "source": [
    "import numpy as np"
   ]
  },
  {
   "cell_type": "code",
   "execution_count": null,
   "id": "1406757e",
   "metadata": {},
   "outputs": [],
   "source": [
    "#variables \n",
    "a=0\n",
    "b=4\n",
    "n=4\n",
    "\n",
    "negative=False\n",
    "\n",
    "w = (b - a) / n\n",
    "x = np.linspace(a, b, n+1)\n",
    "f = 5-2*x\n",
    "\n",
    "for i in range(n+1):\n",
    "    if f[i]<0:\n",
    "        negative=True \n",
    "    \n",
    "if negative==True:\n",
    "    print(\"the function is not riemann integrable\")\n",
    "else: \n",
    "    leftRiemann_I = w * sum(f[:n])\n",
    "    rightRiemann_I = w * sum(f[1:])\n",
    "    print(\"Left-Riemann integral is\", leftRiemann)\n",
    "    print(\"Right-Riemann integral is\", rightRiemann)"
   ]
  },
  {
   "cell_type": "markdown",
   "id": "171c0f3c",
   "metadata": {},
   "source": [
    "#### Trapezoidal Integration"
   ]
  },
  {
   "cell_type": "code",
   "execution_count": 2,
   "id": "1e1124c0",
   "metadata": {},
   "outputs": [],
   "source": [
    "def trapezoidal_I(f,a,b,n):\n",
    "    \n",
    "    w= (b-a)/n\n",
    "    x= np.linspace(a, b, n+1)\n",
    "    \n",
    "    trap_I = (w/2)*(f(x[0])+f(x[n]))\n",
    "    \n",
    "    for i in range (1, n):\n",
    "        trap_I = trap_I + w*f(x[i])\n",
    "        \n",
    "    return trap_I\n",
    "        "
   ]
  },
  {
   "cell_type": "markdown",
   "id": "168ca0c1",
   "metadata": {},
   "source": [
    "#### Midpoint Rectangular Integration"
   ]
  },
  {
   "cell_type": "code",
   "execution_count": 3,
   "id": "27d0d90c",
   "metadata": {},
   "outputs": [],
   "source": [
    "def midpoint_I(f,a,b,n):\n",
    "    \n",
    "    w=(b-a)/n\n",
    "    x=np.linspace(a, b , n+1)\n",
    "    \n",
    "    midpt_I=0\n",
    "    \n",
    "    for i in range(n):\n",
    "        midpt_I= midpt_I+f((x[i]+x[i+1])/2)\n",
    "        \n",
    "    return w*midpt_I\n",
    "    "
   ]
  },
  {
   "cell_type": "markdown",
   "id": "fb391578",
   "metadata": {},
   "source": [
    "#### Simpson's Integration"
   ]
  },
  {
   "cell_type": "code",
   "execution_count": 4,
   "id": "78fff59c",
   "metadata": {},
   "outputs": [],
   "source": [
    "def simpson_I(f,a,b,n):\n",
    "    \n",
    "    if n%2 != 0:\n",
    "        return \"the number of subintervals is not even\"\n",
    "    \n",
    "    m=int(n/2)\n",
    "    w=(b-a)/n\n",
    "    x=np.linspace(a, b, n+1)\n",
    "    \n",
    "    simp_I= f(x[0])+f(x[n])\n",
    "    I1= 0\n",
    "    I2= 0\n",
    "    \n",
    "    for i in range (0,m):\n",
    "        I1= I1+f(x[2*i+1])\n",
    "        \n",
    "    for i in range(1,m):\n",
    "        I2= I2+f(x[2*i])\n",
    "        \n",
    "    I1= 4*I1\n",
    "    I2= 2*I2\n",
    "    \n",
    "    simp_I= (w/3)*(simp_I+I1+I2)\n",
    "    \n",
    "    return simp_I\n",
    "        "
   ]
  },
  {
   "cell_type": "code",
   "execution_count": 5,
   "id": "a7599dbe",
   "metadata": {},
   "outputs": [],
   "source": [
    "def f1(x):\n",
    "    return (1/(1 + x**2))\n",
    "\n",
    "def f2(x):\n",
    "    return ((1/2)*x**2)"
   ]
  },
  {
   "cell_type": "code",
   "execution_count": 6,
   "id": "b06181cb",
   "metadata": {},
   "outputs": [
    {
     "name": "stdout",
     "output_type": "stream",
     "text": [
      "The trapezoidal integral of the funtion f is:  0.7842407666178158\n",
      "The midpoint integral of the funtion f is:  0.7859768568056095\n",
      "The simpson's integral of the funtion f is:  0.7853979452340107\n"
     ]
    }
   ],
   "source": [
    "print(\"The trapezoidal integral of the funtion f is: \", trapezoidal_I(f1,0,1,6))\n",
    "print(\"The midpoint integral of the funtion f is: \", midpoint_I(f1,0,1,6))\n",
    "print(\"The simpson's integral of the funtion f is: \", simpson_I(f1,0,1,6))"
   ]
  },
  {
   "cell_type": "code",
   "execution_count": null,
   "id": "9a5842d3",
   "metadata": {},
   "outputs": [],
   "source": []
  }
 ],
 "metadata": {
  "kernelspec": {
   "display_name": "Python 3 (ipykernel)",
   "language": "python",
   "name": "python3"
  },
  "language_info": {
   "codemirror_mode": {
    "name": "ipython",
    "version": 3
   },
   "file_extension": ".py",
   "mimetype": "text/x-python",
   "name": "python",
   "nbconvert_exporter": "python",
   "pygments_lexer": "ipython3",
   "version": "3.9.13"
  }
 },
 "nbformat": 4,
 "nbformat_minor": 5
}
