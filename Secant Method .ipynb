{
 "cells": [
  {
   "cell_type": "markdown",
   "id": "b5b63fae",
   "metadata": {},
   "source": [
    "### Recurssive method "
   ]
  },
  {
   "cell_type": "code",
   "execution_count": 16,
   "id": "ff0fb114",
   "metadata": {},
   "outputs": [],
   "source": [
    "def secant_method(f, x0, x1, tol, max_iter):\n",
    "    \n",
    "    n = 1\n",
    "\n",
    "    xi_1=x1\n",
    "    xi_2=x0\n",
    "\n",
    "\n",
    "    xi = xi_1 - f(xi_1) * ((xi_1 - xi_2) / (f(xi_1) - f(xi_2)))\n",
    "\n",
    "    if abs(f(xi_1))<tol or n> max_iter:\n",
    "        return xi\n",
    "\n",
    "    # recursive call with updated interval\n",
    "    return secant_method(f, xi_1, xi, tol, max_iter)\n",
    "    n=n+1"
   ]
  },
  {
   "cell_type": "markdown",
   "id": "394a5796",
   "metadata": {},
   "source": [
    "### Iterative method"
   ]
  },
  {
   "cell_type": "code",
   "execution_count": 11,
   "id": "03bbcac7",
   "metadata": {},
   "outputs": [],
   "source": [
    "def secant_method1(f, x0, x1, tol, max_iter):\n",
    "    \n",
    "    n=1\n",
    "    \n",
    "    xi_1=x1\n",
    "    xi_2=x0\n",
    "\n",
    "    while abs(f(xi_1))>tol and n<= max_iter:\n",
    "        \n",
    "        if f(x0) == f(x1):\n",
    "            print('Divide by zero error!')\n",
    "            break\n",
    "            \n",
    "        xi = xi_1 - f(xi_1) * ((xi_1 - xi_2) / (f(xi_1) - f(xi_2)))\n",
    "        xi_2=xi_1\n",
    "        xi_1=xi\n",
    "        \n",
    "        n=n+1\n",
    "        \n",
    "    if n>max_iter:\n",
    "        print('Not Convergent!')\n",
    "    \n",
    "    return xi"
   ]
  },
  {
   "cell_type": "markdown",
   "id": "5e7f9b7b",
   "metadata": {},
   "source": [
    "### Example and testing "
   ]
  },
  {
   "cell_type": "code",
   "execution_count": 12,
   "id": "e44e0fee",
   "metadata": {},
   "outputs": [],
   "source": [
    "def f(x):\n",
    "    return x**3 - 5*x - 9"
   ]
  },
  {
   "cell_type": "code",
   "execution_count": 17,
   "id": "4f167c2f",
   "metadata": {},
   "outputs": [
    {
     "name": "stdout",
     "output_type": "stream",
     "text": [
      "the root using the iterative method is 2.8551965393053247\n",
      "the root using the recurssive method is 2.855196539320705\n"
     ]
    }
   ],
   "source": [
    "x0= 2\n",
    "x1= 3\n",
    "tol= 0.000001\n",
    "max_iter= 10\n",
    "print(\"the root using the iterative method is\", secant_method1(f,x0,x1,tol,max_iter))\n",
    "print(\"the root using the recurssive method is\", secant_method(f,x0,x1,tol,max_iter))\n"
   ]
  }
 ],
 "metadata": {
  "kernelspec": {
   "display_name": "Python 3 (ipykernel)",
   "language": "python",
   "name": "python3"
  },
  "language_info": {
   "codemirror_mode": {
    "name": "ipython",
    "version": 3
   },
   "file_extension": ".py",
   "mimetype": "text/x-python",
   "name": "python",
   "nbconvert_exporter": "python",
   "pygments_lexer": "ipython3",
   "version": "3.9.13"
  }
 },
 "nbformat": 4,
 "nbformat_minor": 5
}
