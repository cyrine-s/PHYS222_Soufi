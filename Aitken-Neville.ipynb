{
 "cells": [
  {
   "cell_type": "code",
   "execution_count": 6,
   "metadata": {},
   "outputs": [
    {
     "name": "stdout",
     "output_type": "stream",
     "text": [
      "0.25\n",
      "0.125\n",
      "0.1\n",
      "0.08072916666666667\n",
      "0.11319444444444444\n",
      "0.1058511078042328\n"
     ]
    },
    {
     "data": {
      "text/plain": [
       "0.1058511078042328"
      ]
     },
     "execution_count": 6,
     "metadata": {},
     "output_type": "execute_result"
    }
   ],
   "source": [
    "import numpy as np\n",
    "x=[16,64,100] #an array of x data points\n",
    "y=[0.25,0.125,0.1] #an array of y data points\n",
    "def aitkenNev(x,y,X):\n",
    "    n=len(x)\n",
    "    p=np.zeros(n)\n",
    "    for i in range(n):\n",
    "        for j in range(n-i):\n",
    "            if i==0:\n",
    "                p[j]=y[j]\n",
    "            else:\n",
    "                p[j]=((X-x[i+j])/(x[j]-x[i+j]))*p[j]+((X-x[j])/(x[i+j]-x[j]))*p[j+1]\n",
    "            #print(p[j]) (just for testing)\n",
    "    return p[0] \n",
    "aitkenNev(x,y,81)\n",
    "        \n",
    "    "
   ]
  },
  {
   "cell_type": "code",
   "execution_count": null,
   "metadata": {},
   "outputs": [],
   "source": []
  }
 ],
 "metadata": {
  "kernelspec": {
   "display_name": "Python 3",
   "language": "python",
   "name": "python3"
  },
  "language_info": {
   "codemirror_mode": {
    "name": "ipython",
    "version": 3
   },
   "file_extension": ".py",
   "mimetype": "text/x-python",
   "name": "python",
   "nbconvert_exporter": "python",
   "pygments_lexer": "ipython3",
   "version": "3.7.3"
  }
 },
 "nbformat": 4,
 "nbformat_minor": 2
}
