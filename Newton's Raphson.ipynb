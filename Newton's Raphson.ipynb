{
 "cells": [
  {
   "cell_type": "code",
   "execution_count": 1,
   "id": "31964343",
   "metadata": {},
   "outputs": [],
   "source": [
    "# Importing Packages\n",
    "import numpy as np\n",
    "import matplotlib.pyplot as plt"
   ]
  },
  {
   "cell_type": "markdown",
   "id": "15641fe9",
   "metadata": {},
   "source": [
    "### Recursive method"
   ]
  },
  {
   "cell_type": "code",
   "execution_count": 23,
   "id": "98e2028d",
   "metadata": {},
   "outputs": [],
   "source": [
    "def my_newton(f, df, x0, tol, max_iter):\n",
    "    n=1\n",
    "    if abs(f(x0)) < tol or n> max_iter:\n",
    "        return x0\n",
    "    else:\n",
    "        return my_newton(f, df, x0 - f(x0)/df(x0), tol, max_iter)\n",
    "        n=n+1"
   ]
  },
  {
   "cell_type": "markdown",
   "id": "62073356",
   "metadata": {},
   "source": [
    "### Iterative method"
   ]
  },
  {
   "cell_type": "code",
   "execution_count": 17,
   "id": "4a38c0fa",
   "metadata": {},
   "outputs": [],
   "source": [
    "def my_newton1(f, df, x0, tol, max_iter):\n",
    "    n=1\n",
    "    s=1\n",
    "    xi_1=x0\n",
    "    # Iterating until either the tolerance or max iterations is met\n",
    "    while s > tol and n <= max_iter:\n",
    "        xi = xi_1 - f(xi_1)/df(xi_1)  # Newton-Raphson equation\n",
    "        print('Iteration ' + str(n) + ': x = ' + str(xi) + ', f(x) = ' + str(f(xi)))\n",
    "        s=abs(xi-xi_1)/abs(xi_1)\n",
    "        xi_1 = xi\n",
    "        n=n+1\n",
    "    if s>tol and n> max_iter:\n",
    "        print('No convergence')\n",
    "    return xi"
   ]
  },
  {
   "cell_type": "markdown",
   "id": "84346527",
   "metadata": {},
   "source": [
    "### Example and testing "
   ]
  },
  {
   "cell_type": "code",
   "execution_count": 4,
   "id": "96933f09",
   "metadata": {},
   "outputs": [],
   "source": [
    "# Defining Equation and Derivative\n",
    "def f(x):\n",
    "    res = np.cos(x)-2*x**3\n",
    "    return res\n",
    " \n",
    "def df(x):\n",
    "    res = -np.sin(x)-6*x**2\n",
    "    return res"
   ]
  },
  {
   "cell_type": "code",
   "execution_count": 39,
   "id": "eeae8550",
   "metadata": {},
   "outputs": [
    {
     "name": "stdout",
     "output_type": "stream",
     "text": [
      "Iteration 1: x = 0.7866397888154096, f(x) = -0.2673205221391448\n",
      "Iteration 2: x = 0.7261709381607133, f(x) = -0.018132645287873284\n",
      "Iteration 3: x = 0.7214340390454733, f(x) = -0.0001059518195203335\n",
      "Iteration 4: x = 0.7214060336500903, f(x) = -3.6893424981698786e-09\n",
      "Iteration 5: x = 0.721406032674848, f(x) = -1.1102230246251565e-16\n",
      "Iteration 6: x = 0.721406032674848, f(x) = -1.1102230246251565e-16\n",
      "estimate = 0.721406032674848\n",
      "estimate = 0.721406032674848\n"
     ]
    }
   ],
   "source": [
    "estimate1 = my_newton1(f, df, 1, 1e-15, 20)\n",
    "print(\"estimate =\", estimate1)\n",
    "estimate = my_newton(f, df, 1, 1e-15, 20)\n",
    "print(\"estimate =\", estimate)"
   ]
  },
  {
   "cell_type": "code",
   "execution_count": null,
   "id": "aea0cfa5",
   "metadata": {},
   "outputs": [],
   "source": []
  }
 ],
 "metadata": {
  "kernelspec": {
   "display_name": "Python 3 (ipykernel)",
   "language": "python",
   "name": "python3"
  },
  "language_info": {
   "codemirror_mode": {
    "name": "ipython",
    "version": 3
   },
   "file_extension": ".py",
   "mimetype": "text/x-python",
   "name": "python",
   "nbconvert_exporter": "python",
   "pygments_lexer": "ipython3",
   "version": "3.9.13"
  }
 },
 "nbformat": 4,
 "nbformat_minor": 5
}
